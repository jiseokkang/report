{
  "nbformat": 4,
  "nbformat_minor": 0,
  "metadata": {
    "colab": {
      "provenance": [],
      "gpuType": "T4"
    },
    "kernelspec": {
      "name": "python3",
      "display_name": "Python 3"
    },
    "language_info": {
      "name": "python"
    },
    "accelerator": "GPU"
  },
  "cells": [
    {
      "cell_type": "markdown",
      "source": [
        "단 1 개의 레이어로 이루어진 신경망의 예 (실행하지 않기!)"
      ],
      "metadata": {
        "id": "cr1xTvFAaDh_"
      }
    },
    {
      "cell_type": "code",
      "execution_count": 1,
      "metadata": {
        "id": "O8zOx-ybZ39E"
      },
      "outputs": [],
      "source": [
        "from keras import models\n",
        "from keras import layers\n",
        "\n",
        "model = models.Sequential()\n",
        "model.add(layers.Dense(1, input_dim=2, activation='sigmoid'))"
      ]
    },
    {
      "cell_type": "code",
      "source": [
        "model.compile(optimizer='SGD', loss='binary_crossentropy')"
      ],
      "metadata": {
        "id": "gBky-3SZaJvm"
      },
      "execution_count": 2,
      "outputs": []
    },
    {
      "cell_type": "code",
      "source": [
        "history = model.fit(X_train, y_train)"
      ],
      "metadata": {
        "id": "NTUym8aAClqb"
      },
      "execution_count": null,
      "outputs": []
    },
    {
      "cell_type": "code",
      "source": [
        "from keras import models\n",
        "from keras import layers\n",
        "\n",
        "model = models.Sequential()\n",
        "model.add(layers.Dense(4, input_dim=2))\n",
        "model.add(layers.Dense(1, activation='Sigmoid'))\n",
        "\n",
        "model.compile(optimizer='SGD', loss='binary_crossentropy')\n",
        "history = model.fit(X_train, y_train)"
      ],
      "metadata": {
        "id": "iOlxJxTzap3K"
      },
      "execution_count": null,
      "outputs": []
    },
    {
      "cell_type": "markdown",
      "source": [
        "\n",
        "\n",
        "---\n",
        "\n",
        "\n",
        ">여기 아래서부터 실행가능\n",
        "\n",
        "\n",
        "---\n",
        "\n"
      ],
      "metadata": {
        "id": "tSE7Pavh-6PM"
      }
    },
    {
      "cell_type": "markdown",
      "source": [
        "이진분류"
      ],
      "metadata": {
        "id": "WmgiFVpCbOIn"
      }
    },
    {
      "cell_type": "code",
      "source": [
        "import matplotlib.pyplot as plt\n",
        "from sklearn.datasets import make_blobs\n",
        "\n",
        "data, labels = make_blobs(n_samples=10000, n_features=2,\n",
        "centers=2, random_state=0)\n",
        "plt.scatter(data[:,0], data[:,1], c=labels)\n",
        "plt.show()"
      ],
      "metadata": {
        "id": "vFR0HEYqbPIo"
      },
      "execution_count": null,
      "outputs": []
    },
    {
      "cell_type": "markdown",
      "source": [
        "첫 5개의 data와 라벨을 출력"
      ],
      "metadata": {
        "id": "CTLmE0fAbTpc"
      }
    },
    {
      "cell_type": "code",
      "source": [
        "print(data[:5])\n",
        "print(labels[:5])"
      ],
      "metadata": {
        "id": "7GFKWSsxbWxL"
      },
      "execution_count": null,
      "outputs": []
    },
    {
      "cell_type": "markdown",
      "source": [
        "훈련 데이터와 테스트 데이터로 분류"
      ],
      "metadata": {
        "id": "KTQPmU7ubcJH"
      }
    },
    {
      "cell_type": "code",
      "source": [
        "from sklearn.model_selection import train_test_split\n",
        "\n",
        "X_train, X_test, y_train, y_test = train_test_split(data, labels, test_size=0.2)"
      ],
      "metadata": {
        "id": "a5ay_fdGbbg6"
      },
      "execution_count": 6,
      "outputs": []
    },
    {
      "cell_type": "code",
      "source": [
        "from keras import models\n",
        "from keras import layers\n",
        "\n",
        "model = models.Sequential()\n",
        "model.add(layers.Dense(1, input_dim=2, activation='sigmoid'))"
      ],
      "metadata": {
        "id": "mjjpmhCObr-o"
      },
      "execution_count": 9,
      "outputs": []
    },
    {
      "cell_type": "code",
      "source": [
        "model.summary()"
      ],
      "metadata": {
        "id": "_WeE1Ahybt_p"
      },
      "execution_count": null,
      "outputs": []
    },
    {
      "cell_type": "markdown",
      "source": [
        "GPU 사용: 런타임 > 런타임유형변경 > 하드웨어가속기 GPU 선택"
      ],
      "metadata": {
        "id": "AE4H4zrPbxYA"
      }
    },
    {
      "cell_type": "code",
      "source": [
        "from tensorflow.keras import models\n",
        "from tensorflow.keras import layers"
      ],
      "metadata": {
        "id": "Y0OMPj4Dbw1b"
      },
      "execution_count": 11,
      "outputs": []
    },
    {
      "cell_type": "code",
      "source": [
        "model.compile(optimizer='SGD', loss='binary_crossentropy', metrics=['accuracy'])"
      ],
      "metadata": {
        "id": "7xmuKwsUb3-G"
      },
      "execution_count": 12,
      "outputs": []
    },
    {
      "cell_type": "markdown",
      "source": [
        "모델을 훈련"
      ],
      "metadata": {
        "id": "biABLih4cJsV"
      }
    },
    {
      "cell_type": "code",
      "source": [
        "model.fit(X_train, y_train, epochs = 40, batch_size=100)"
      ],
      "metadata": {
        "id": "6X4oQ-NdcAhl",
        "collapsed": true
      },
      "execution_count": null,
      "outputs": []
    },
    {
      "cell_type": "markdown",
      "source": [
        "성능 평가"
      ],
      "metadata": {
        "id": "4CML84JCcP2M"
      }
    },
    {
      "cell_type": "code",
      "source": [
        "result = model.evaluate(X_test, y_test)\n",
        "result"
      ],
      "metadata": {
        "id": "HWgjUXkjcMBp"
      },
      "execution_count": null,
      "outputs": []
    },
    {
      "cell_type": "markdown",
      "source": [
        "그래프"
      ],
      "metadata": {
        "id": "gjXvZ6r6cVUv"
      }
    },
    {
      "cell_type": "code",
      "source": [
        "weights, bias = model.get_weights()\n",
        "print(weights)\n",
        "print(bias)"
      ],
      "metadata": {
        "id": "jqBIRu6ucWX5"
      },
      "execution_count": null,
      "outputs": []
    },
    {
      "cell_type": "code",
      "source": [
        "a = -(weights[0]/weights[1])/(weights[0]/bias)\n",
        "b = -weights[0]/weights[1]"
      ],
      "metadata": {
        "id": "raoSqliucbiM"
      },
      "execution_count": 16,
      "outputs": []
    },
    {
      "cell_type": "code",
      "source": [
        "import numpy as np\n",
        "\n",
        "x = np.linspace(np.amin(X_train[:,0]), np.amax(X_train[:,0]))\n",
        "plt.figure()\n",
        "y = [a*i + b for i in x]\n",
        "plt.plot(x, y, color='red', label='Boundary')\n",
        "plt.scatter(X_train[:, 0], X_train[:, 1], c=y_train, s=20)\n",
        "plt.legend()"
      ],
      "metadata": {
        "id": "0kpB0z88ceZv"
      },
      "execution_count": null,
      "outputs": []
    },
    {
      "cell_type": "code",
      "source": [
        "test = np.array([[2, -2], [2, 2.5], [2, 4]])\n",
        "pred = model.predict(test)\n",
        "print(pred)"
      ],
      "metadata": {
        "id": "_k8LvvfDcum7"
      },
      "execution_count": null,
      "outputs": []
    },
    {
      "cell_type": "markdown",
      "source": [
        "다중분류"
      ],
      "metadata": {
        "id": "xLdmjNk9c9kM"
      }
    },
    {
      "cell_type": "code",
      "source": [
        "from sklearn import datasets\n",
        "iris = datasets.load_iris()\n",
        "X = iris.data\n",
        "y = iris.target\n",
        "\n",
        "from sklearn.model_selection import train_test_split\n",
        "X_train, X_test, y_train, y_test = train_test_split(X, y, test_size=0.2)"
      ],
      "metadata": {
        "id": "nQoYcl7nc-uL"
      },
      "execution_count": 19,
      "outputs": []
    },
    {
      "cell_type": "markdown",
      "source": [
        "원-핫 인코딩(One-Hot Encoding)"
      ],
      "metadata": {
        "id": "Icu99XJfdHld"
      }
    },
    {
      "cell_type": "code",
      "source": [
        "import tensorflow as tf\n",
        "y_train = tf.one_hot(y_train, 3)\n",
        "y_test = tf.one_hot(y_test, 3)"
      ],
      "metadata": {
        "id": "P1e2d88HdPEh"
      },
      "execution_count": 20,
      "outputs": []
    },
    {
      "cell_type": "markdown",
      "source": [
        "\n",
        "\n",
        "---\n",
        "\n",
        "\n",
        ">다중분류 모델\n",
        "\n",
        "\n",
        "---\n",
        "\n"
      ],
      "metadata": {
        "id": "LmkvFY0SdalA"
      }
    },
    {
      "cell_type": "code",
      "source": [
        "from tensorflow.keras import models\n",
        "from tensorflow.keras import layers\n",
        "\n",
        "model = models.Sequential()\n",
        "model.add(layers.Dense(2, input_shape=(4, )))\n",
        "model.add(layers.Dense(3, activation='softmax'))"
      ],
      "metadata": {
        "id": "CUDGobVGddT6"
      },
      "execution_count": 21,
      "outputs": []
    },
    {
      "cell_type": "code",
      "source": [
        "model.summary()"
      ],
      "metadata": {
        "id": "6oy23su3dfJS"
      },
      "execution_count": null,
      "outputs": []
    },
    {
      "cell_type": "code",
      "source": [
        "model.compile(optimizer='rmsprop', loss='categorical_crossentropy')"
      ],
      "metadata": {
        "id": "Fr3jkAuFdiSZ"
      },
      "execution_count": 23,
      "outputs": []
    },
    {
      "cell_type": "markdown",
      "source": [
        "모델을 훈련"
      ],
      "metadata": {
        "id": "a5G2-fYXdx6y"
      }
    },
    {
      "cell_type": "code",
      "source": [
        "history = model.fit(X_train, y_train, epochs=100)"
      ],
      "metadata": {
        "id": "57C_BnxTdrnk",
        "collapsed": true
      },
      "execution_count": null,
      "outputs": []
    },
    {
      "cell_type": "markdown",
      "source": [
        "성능 평가"
      ],
      "metadata": {
        "id": "sVNq0qMxd0sG"
      }
    },
    {
      "cell_type": "code",
      "source": [
        "results = model.evaluate(X_test, y_test)"
      ],
      "metadata": {
        "id": "aSTQVh6Pd2QE"
      },
      "execution_count": null,
      "outputs": []
    },
    {
      "cell_type": "code",
      "source": [
        "prediction = model.predict(X_test)\n",
        "print(prediction)"
      ],
      "metadata": {
        "id": "jLoDkHmjd7Qq",
        "collapsed": true
      },
      "execution_count": null,
      "outputs": []
    },
    {
      "cell_type": "code",
      "source": [
        "print(X_test[:1])\n",
        "prediction = model.predict(X_test[:1])\n",
        "print(prediction)"
      ],
      "metadata": {
        "id": "VvNYD8iDeL8O"
      },
      "execution_count": null,
      "outputs": []
    },
    {
      "cell_type": "markdown",
      "source": [
        "\n",
        "\n",
        "---\n",
        "\n",
        "\n",
        ">회귀모델\n",
        "\n",
        "\n",
        "---\n",
        "\n"
      ],
      "metadata": {
        "id": "fd94QvwjfsIP"
      }
    },
    {
      "cell_type": "code",
      "source": [
        "import pandas as pd\n",
        "import keras\n",
        "import numpy as np\n",
        "\n",
        "#column_names = ['연비','기통수','배기량','마력','중량',\n",
        " #               '가속력', '연식', 'origin']\n",
        "column_names = ['연비','기통수','배기량','마력','중량',\n",
        "                '가속력', '연식', '제조국가']\n",
        "dataset = pd.read_csv('/content/sample_data/automobile.csv', names=column_names, comment='\\t', sep=',', skipinitialspace=True)\n",
        "# dataset.columns = column_names\n",
        "\n",
        "dataset.head(3)"
      ],
      "metadata": {
        "id": "YkS8tekmftKH"
      },
      "execution_count": null,
      "outputs": []
    },
    {
      "cell_type": "markdown",
      "source": [
        "칼럼별로 nan 데이터의 개수의 합을 출력"
      ],
      "metadata": {
        "id": "l8RNsqeljW-E"
      }
    },
    {
      "cell_type": "code",
      "source": [
        "dataset.isnull().sum()"
      ],
      "metadata": {
        "id": "_W_bmP1MjMoj"
      },
      "execution_count": null,
      "outputs": []
    },
    {
      "cell_type": "markdown",
      "source": [
        "nan 데이터를 삭제"
      ],
      "metadata": {
        "id": "XpkJMzYFjagX"
      }
    },
    {
      "cell_type": "code",
      "source": [
        "dataset = dataset.dropna()"
      ],
      "metadata": {
        "id": "BR_V8MlfjRp3"
      },
      "execution_count": 68,
      "outputs": []
    },
    {
      "cell_type": "markdown",
      "source": [
        "제조국가 칼럼을 삭제"
      ],
      "metadata": {
        "id": "VMKbbh7UBnxZ"
      }
    },
    {
      "cell_type": "code",
      "source": [
        "dataset.pop('제조국가')\n",
        "dataset.head(3)"
      ],
      "metadata": {
        "id": "lnAaNm7mBgtJ"
      },
      "execution_count": null,
      "outputs": []
    },
    {
      "cell_type": "markdown",
      "source": [
        "전체 데이터 중 일부를 훈련 데이터로 분리"
      ],
      "metadata": {
        "id": "bbuj8YzSj1hG"
      }
    },
    {
      "cell_type": "code",
      "source": [
        "len(dataset.index)"
      ],
      "metadata": {
        "id": "8kBaKk4kjqjQ"
      },
      "execution_count": null,
      "outputs": []
    },
    {
      "cell_type": "markdown",
      "source": [
        "데이터 정규화 및 350개의 샘플을 추출"
      ],
      "metadata": {
        "id": "qLgT0Qg1kAUp"
      }
    },
    {
      "cell_type": "code",
      "source": [
        "train_data = dataset.sample(350)\n",
        "len(train_data)"
      ],
      "metadata": {
        "id": "O8scqnhaDt73"
      },
      "execution_count": null,
      "outputs": []
    },
    {
      "cell_type": "code",
      "source": [
        "test_data = dataset.drop(train_data.index)\n",
        "len(test_data.index)"
      ],
      "metadata": {
        "id": "J-iLAvsPD2cQ"
      },
      "execution_count": null,
      "outputs": []
    },
    {
      "cell_type": "code",
      "source": [
        "y_train = train_data['연비']\n",
        "y_test = test_data['연비']\n",
        "y_test.head(3)"
      ],
      "metadata": {
        "id": "2JLqcwGLEGOh"
      },
      "execution_count": null,
      "outputs": []
    },
    {
      "cell_type": "code",
      "source": [
        "train_data.pop('연비')\n",
        "test_data.pop('연비')\n",
        "train_data[:3]"
      ],
      "metadata": {
        "id": "IGe0iIGTETPu"
      },
      "execution_count": null,
      "outputs": []
    },
    {
      "cell_type": "code",
      "source": [
        "from tensorflow.keras import models\n",
        "from tensorflow.keras import layers\n",
        "\n",
        "model = models.Sequential()\n",
        "model.add(layers.Dense(32, activation='relu', input_dim=len(train_data.keys())))\n",
        "model.add(layers.Dense(64, activation='relu'))\n",
        "model.add(layers.Dense(1))"
      ],
      "metadata": {
        "id": "fh9_nMCsEgTw"
      },
      "execution_count": 77,
      "outputs": []
    },
    {
      "cell_type": "code",
      "source": [
        "model.summary()"
      ],
      "metadata": {
        "id": "Q6WtGer8Enp3"
      },
      "execution_count": null,
      "outputs": []
    },
    {
      "cell_type": "code",
      "source": [
        "model.compile(optimizer='rmsprop', loss='mse', metrics=['mae'])"
      ],
      "metadata": {
        "id": "AUrD3wGXEt-n"
      },
      "execution_count": 80,
      "outputs": []
    },
    {
      "cell_type": "code",
      "source": [
        "history = model.fit(train_data, y_train, validation_split=0.2, epochs=200)"
      ],
      "metadata": {
        "id": "1SmeavrpE5R_"
      },
      "execution_count": null,
      "outputs": []
    },
    {
      "cell_type": "code",
      "source": [
        "mse, mae = model.evaluate(train_data, y_train)"
      ],
      "metadata": {
        "id": "HqBqqzwbFIB_"
      },
      "execution_count": null,
      "outputs": []
    },
    {
      "cell_type": "code",
      "source": [
        "test_data[:1]"
      ],
      "metadata": {
        "id": "sp_wQyJSFPBH"
      },
      "execution_count": null,
      "outputs": []
    },
    {
      "cell_type": "code",
      "source": [
        "prediction = model.predict(test_data[:1])\n",
        "print('예측: ', prediction)\n",
        "print('MAE :', mae)"
      ],
      "metadata": {
        "id": "UvzVfTDXFUgu"
      },
      "execution_count": null,
      "outputs": []
    }
  ]
}