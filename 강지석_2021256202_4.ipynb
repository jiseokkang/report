{
  "nbformat": 4,
  "nbformat_minor": 0,
  "metadata": {
    "colab": {
      "provenance": [],
      "authorship_tag": "ABX9TyPryHWfZRljTOa1Psu4XZLi",
      "include_colab_link": true
    },
    "kernelspec": {
      "name": "python3",
      "display_name": "Python 3"
    },
    "language_info": {
      "name": "python"
    }
  },
  "cells": [
    {
      "cell_type": "markdown",
      "metadata": {
        "id": "view-in-github",
        "colab_type": "text"
      },
      "source": [
        "<a href=\"https://colab.research.google.com/github/jiseokkang/jiseok/blob/main/Untitled4.ipynb\" target=\"_parent\"><img src=\"https://colab.research.google.com/assets/colab-badge.svg\" alt=\"Open In Colab\"/></a>"
      ]
    },
    {
      "cell_type": "code",
      "source": [
        "nums = [1, 1, 1, 2, 2, 3, 2, 3, 3, 3, 1]\n",
        "def max_count(nums):\n",
        "  counts = {}\n",
        "  for i in nums:\n",
        "      if i in counts:\n",
        "         counts[i] += 1\n",
        "      else:\n",
        "         counts[i] = 1\n",
        "  return counts\n",
        "counts = max_count(nums)\n",
        "first = []\n",
        "max_num = max(counts.values())\n",
        "for name, count in counts.items():\n",
        "    print(name, ':', count,'번')\n",
        "    if count == max_num:\n",
        "        first.append(name)\n",
        "print('1등:', first)"
      ],
      "metadata": {
        "colab": {
          "base_uri": "https://localhost:8080/"
        },
        "id": "YC37SihKU5bb",
        "outputId": "b9c21151-097d-4ee7-ddcf-1686ae8b3aea"
      },
      "execution_count": 33,
      "outputs": [
        {
          "output_type": "stream",
          "name": "stdout",
          "text": [
            "1 : 4 번\n",
            "2 : 3 번\n",
            "3 : 4 번\n",
            "1등: [1, 3]\n"
          ]
        }
      ]
    }
  ]
}