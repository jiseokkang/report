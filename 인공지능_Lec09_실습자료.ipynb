{
  "nbformat": 4,
  "nbformat_minor": 0,
  "metadata": {
    "colab": {
      "provenance": []
    },
    "kernelspec": {
      "name": "python3",
      "display_name": "Python 3"
    },
    "language_info": {
      "name": "python"
    }
  },
  "cells": [
    {
      "cell_type": "markdown",
      "source": [
        "MNIST에서 제공하는 필기 숫자 데이터 세트를 다운로드"
      ],
      "metadata": {
        "id": "2Xk9FkfpQXBK"
      }
    },
    {
      "cell_type": "code",
      "execution_count": 5,
      "metadata": {
        "colab": {
          "base_uri": "https://localhost:8080/"
        },
        "id": "KeiYQ--JM8kQ",
        "outputId": "c1aa5feb-28b1-4af2-b131-461f6f3247ed"
      },
      "outputs": [
        {
          "output_type": "stream",
          "name": "stdout",
          "text": [
            "[7 2 1 ... 4 5 6]\n"
          ]
        }
      ],
      "source": [
        "import numpy as np\n",
        "import matplotlib.pyplot as plt\n",
        "import tensorflow as tf\n",
        "\n",
        "mnist = tf.keras.datasets.mnist\n",
        "\n",
        "(train_data, train_labels), (test_data, test_labels) = mnist.load_data()\n",
        "x_train, x_test = train_data / 255.0, test_data / 255.0\n",
        "\n",
        "#테스트 학습 데이터\n",
        "print(test_labels)"
      ]
    },
    {
      "cell_type": "code",
      "source": [
        "max_examples = 10000\n",
        "data = train_data[:max_examples]\n",
        "labels = train_labels[:max_examples]\n",
        "plt.imshow(test_data[0].reshape((28, 28)))\n",
        "print('Index %d: Label %d' % (0, test_labels[0]))"
      ],
      "metadata": {
        "colab": {
          "base_uri": "https://localhost:8080/",
          "height": 448
        },
        "id": "ZZJpy_8aQWEH",
        "outputId": "a50b4d7d-8c62-44b9-e84b-ee91bf7407f1"
      },
      "execution_count": 10,
      "outputs": [
        {
          "output_type": "stream",
          "name": "stdout",
          "text": [
            "Index 0: Label 7\n"
          ]
        },
        {
          "output_type": "display_data",
          "data": {
            "text/plain": [
              "<Figure size 640x480 with 1 Axes>"
            ],
            "image/png": "[encoded data removed]"
          },
          "metadata": {}
        }
      ]
    },
    {
      "cell_type": "code",
      "source": [
        "print(data[0].shape)"
      ],
      "metadata": {
        "colab": {
          "base_uri": "https://localhost:8080/"
        },
        "id": "P5dYCT5lQ3Pw",
        "outputId": "87cebec0-a04a-4644-ea07-74d8b5a14ed6"
      },
      "execution_count": 8,
      "outputs": [
        {
          "output_type": "stream",
          "name": "stdout",
          "text": [
            "(28, 28)\n"
          ]
        }
      ]
    },
    {
      "cell_type": "markdown",
      "source": [
        "결정트리를 이용한 경우"
      ],
      "metadata": {
        "id": "BYSCu0SoRHIN"
      }
    },
    {
      "cell_type": "code",
      "source": [
        "from tensorflow.keras.datasets import mnist\n",
        "import numpy as np\n",
        "\n",
        "(train_data, train_labels), (test_data, test_labels) = mnist.load_data()\n",
        "width = 28\n",
        "height = 28\n",
        "train_data = train_data[:5000,:,:]\n",
        "test_data = test_data[:500, :, :]\n",
        "\n",
        "train_labels = train_labels[:5000]\n",
        "test_labels = test_labels[:500]\n",
        "\n",
        "train_data = train_data.reshape(5000, width*height).astype('float32') / 255.0\n",
        "test_data = test_data.reshape(500, width*height).astype('float32') / 255.0"
      ],
      "metadata": {
        "id": "_mdhh-Z_RJp0"
      },
      "execution_count": 12,
      "outputs": []
    },
    {
      "cell_type": "code",
      "source": [
        "from sklearn import tree\n",
        "clf = tree.DecisionTreeClassifier()\n",
        "\n",
        "clf.fit(train_data, train_labels)\n",
        "predictions = clf.predict(test_data)\n",
        "\n",
        "from sklearn.metrics import accuracy_score\n",
        "\n",
        "print (accuracy_score (test_labels, predictions))"
      ],
      "metadata": {
        "colab": {
          "base_uri": "https://localhost:8080/"
        },
        "id": "tQregaUzT614",
        "outputId": "eca51772-a810-4af4-b9c7-32166ef643c9"
      },
      "execution_count": 13,
      "outputs": [
        {
          "output_type": "stream",
          "name": "stdout",
          "text": [
            "0.752\n"
          ]
        }
      ]
    },
    {
      "cell_type": "markdown",
      "source": [
        "KNeighborsClassifier를 이용한 경우"
      ],
      "metadata": {
        "id": "5SQKnlnrT_Ms"
      }
    },
    {
      "cell_type": "code",
      "source": [
        "from sklearn.neighbors import KNeighborsClassifier\n",
        "from sklearn import datasets\n",
        "\n",
        "digits = datasets.load_digits()\n",
        "clf = KNeighborsClassifier()\n",
        "clf.fit(train_data, train_labels)\n",
        "predictions = clf.predict(test_data)\n",
        "\n",
        "from sklearn.metrics import accuracy_score\n",
        "print (accuracy_score (test_labels, predictions))"
      ],
      "metadata": {
        "colab": {
          "base_uri": "https://localhost:8080/"
        },
        "id": "vomQp8n1T9Ks",
        "outputId": "bd8e7f44-4395-45be-9c04-89ce0dd1d4bf"
      },
      "execution_count": 14,
      "outputs": [
        {
          "output_type": "stream",
          "name": "stdout",
          "text": [
            "0.91\n"
          ]
        }
      ]
    },
    {
      "cell_type": "markdown",
      "source": [
        "직접 작성한 무작위 분류 방식을 이용한 경우"
      ],
      "metadata": {
        "id": "osdi5w--UGrI"
      }
    },
    {
      "cell_type": "code",
      "source": [
        "import random\n",
        "\n",
        "class myKNN():\n",
        "  def fit(self, train_data, train_labels):\n",
        "    self.train_data = train_data\n",
        "    self.train_labels = train_labels\n",
        "  def predict(self, test_data):\n",
        "    predictions = []\n",
        "    for row in test_data:\n",
        "      label = random.choice(self.train_labels)\n",
        "      predictions.append(label)\n",
        "    return predictions\n",
        "\n",
        "clf = myKNN()\n",
        "#나만의 구분자를 사용\n",
        "clf.fit(train_data, train_labels)\n",
        "predictions = clf.predict(test_data)\n",
        "from sklearn.metrics import accuracy_score\n",
        "print(accuracy_score(test_labels, predictions))"
      ],
      "metadata": {
        "colab": {
          "base_uri": "https://localhost:8080/"
        },
        "id": "94zydCfQUJqk",
        "outputId": "df5a66a4-70a8-4789-c297-9e2525de49bd"
      },
      "execution_count": 15,
      "outputs": [
        {
          "output_type": "stream",
          "name": "stdout",
          "text": [
            "0.09\n"
          ]
        }
      ]
    },
    {
      "cell_type": "markdown",
      "source": [
        "직접 작성한 유클리디언 분류 방식을 이용 - 전체 데이터"
      ],
      "metadata": {
        "id": "9b8GZApUUMlZ"
      }
    },
    {
      "cell_type": "code",
      "source": [
        "from scipy.spatial import distance\n",
        "\n",
        "def euc(a,b):\n",
        "  # return abs(a-b)\n",
        "  return distance.euclidean(a, b)\n",
        "\n",
        "class eucKNN():\n",
        "  def fit(self, train_data, train_labels):\n",
        "    self.train_data = train_data\n",
        "    self.train_labels = train_labels\n",
        "  def predict(self, test_data):\n",
        "    predictions = []\n",
        "    for row in test_data:\n",
        "      label = self.closest(row)\n",
        "      predictions.append(label)\n",
        "    return predictions\n",
        "  def closest(self, row):\n",
        "    best_dist = euc(row, self.train_data[0])\n",
        "    best_index = 0\n",
        "    for i in range(1, len(self.train_data)):\n",
        "      dist = euc(row, self.train_data[i])\n",
        "      if dist < best_dist:\n",
        "        best_dist = dist\n",
        "        best_index = i\n",
        "    return self.train_labels[best_index]\n",
        "\n",
        "clf = eucKNN()\n",
        "clf.fit(train_data, train_labels)\n",
        "predictions = clf.predict(test_data)\n",
        "\n",
        "from sklearn.metrics import accuracy_score\n",
        "print(accuracy_score(test_labels, predictions))"
      ],
      "metadata": {
        "colab": {
          "base_uri": "https://localhost:8080/"
        },
        "id": "5UKiPqk3UPNz",
        "outputId": "9609c3f9-d55e-4610-edd5-e8bdd22c2af4"
      },
      "execution_count": 16,
      "outputs": [
        {
          "output_type": "stream",
          "name": "stdout",
          "text": [
            "0.906\n"
          ]
        }
      ]
    },
    {
      "cell_type": "markdown",
      "source": [
        "직접 작성한 유클리디언 분류 방식을 이용 - 토이 데이터"
      ],
      "metadata": {
        "id": "CJ_jqbTgUSVm"
      }
    },
    {
      "cell_type": "code",
      "source": [
        "from sklearn import datasets\n",
        "digits = datasets.load_digits()\n",
        "print(len(digits.data), len(digits.target))"
      ],
      "metadata": {
        "colab": {
          "base_uri": "https://localhost:8080/"
        },
        "id": "Q29LoEomUVOS",
        "outputId": "0d44f18f-e16a-483b-c8e5-b0e430f440f3"
      },
      "execution_count": 17,
      "outputs": [
        {
          "output_type": "stream",
          "name": "stdout",
          "text": [
            "1797 1797\n"
          ]
        }
      ]
    },
    {
      "cell_type": "code",
      "source": [
        "from scipy.spatial import distance\n",
        "def euc(a,b):\n",
        "  return distance.euclidean(a, b)\n",
        "\n",
        "class eucKNN():\n",
        "  def fit(self, X_train, y_train):\n",
        "    self.X_train = X_train\n",
        "    self.y_train = y_train\n",
        "  def predict(self, x_test):\n",
        "    predictions = []\n",
        "    for row in x_test:\n",
        "      label = self.closest(row)\n",
        "      predictions.append(label)\n",
        "    return predictions\n",
        "  def closest(self, row):\n",
        "    best_dist = euc(row, self.X_train[0])\n",
        "    best_index = 0\n",
        "    for i in range(1, len(self.X_train)):\n",
        "      dist = euc(row, self.X_train[i])\n",
        "      if dist< best_dist:\n",
        "        best_dist = dist\n",
        "        best_index = i\n",
        "    return self.y_train[best_index]\n",
        "\n",
        "clf = eucKNN()\n",
        "clf.fit(digits.data[:-500], digits.target[:-500])\n",
        "predictions = clf.predict(digits.data[-500:])\n",
        "\n",
        "from sklearn.metrics import accuracy_score\n",
        "print(accuracy_score(digits.target[-500:], predictions))"
      ],
      "metadata": {
        "colab": {
          "base_uri": "https://localhost:8080/"
        },
        "id": "L2b8LCI3UW3E",
        "outputId": "c77787c2-737c-4c56-8883-584b7ef93d50"
      },
      "execution_count": 18,
      "outputs": [
        {
          "output_type": "stream",
          "name": "stdout",
          "text": [
            "0.96\n"
          ]
        }
      ]
    },
    {
      "cell_type": "markdown",
      "source": [
        "서포트 벡터머신을 이용한 경우"
      ],
      "metadata": {
        "id": "_xBcPb8LUZh5"
      }
    },
    {
      "cell_type": "code",
      "source": [
        "from sklearn import svm\n",
        "clf = svm.SVC (gamma=0.001, C=100.)\n",
        "clf.fit(train_data, train_labels)\n",
        "predictions = clf.predict(test_data)\n",
        "\n",
        "from sklearn.metrics import accuracy_score\n",
        "print(accuracy_score(test_labels, predictions))"
      ],
      "metadata": {
        "colab": {
          "base_uri": "https://localhost:8080/"
        },
        "id": "oF9N2A0ZUc_2",
        "outputId": "6c9f421f-e19b-40cc-e632-57370edc682c"
      },
      "execution_count": 19,
      "outputs": [
        {
          "output_type": "stream",
          "name": "stdout",
          "text": [
            "0.926\n"
          ]
        }
      ]
    },
    {
      "cell_type": "markdown",
      "source": [
        "위스키 데이터 세트에 기계학습 적용하기"
      ],
      "metadata": {
        "id": "ixrzzLzNUw-t"
      }
    },
    {
      "cell_type": "code",
      "source": [
        "import numpy as np\n",
        "import pandas as pd\n",
        "\n",
        "whisky = pd.read_csv('./whiskies.txt')\n",
        "print(whisky.head())"
      ],
      "metadata": {
        "colab": {
          "base_uri": "https://localhost:8080/"
        },
        "id": "x9ra7Y2wU0Hq",
        "outputId": "9a419e71-3561-48f0-b09c-8d1cc5cc6993"
      },
      "execution_count": 20,
      "outputs": [
        {
          "output_type": "stream",
          "name": "stdout",
          "text": [
            "   RowID Distillery  Body  Sweetness  Smoky  Medicinal  Tobacco  Honey  Spicy  \\\n",
            "0      1  Aberfeldy     2          2      2          0        0      2      1   \n",
            "1      2   Aberlour     3          3      1          0        0      4      3   \n",
            "2      3     AnCnoc     1          3      2          0        0      2      0   \n",
            "3      4     Ardbeg     4          1      4          4        0      0      2   \n",
            "4      5    Ardmore     2          2      2          0        0      1      1   \n",
            "\n",
            "   Winey  Nutty  Malty  Fruity  Floral     Postcode  Latitude  Longitude  \n",
            "0      2      2      2       2       2   \\tPH15 2EB    286580     749680  \n",
            "1      2      2      3       3       2   \\tAB38 9PJ    326340     842570  \n",
            "2      0      2      2       3       2    \\tAB5 5LI    352960     839320  \n",
            "3      0      1      2       1       0   \\tPA42 7EB    141560     646220  \n",
            "4      1      2      3       1       1   \\tAB54 4NH    355350     829140  \n"
          ]
        }
      ]
    },
    {
      "cell_type": "markdown",
      "source": [
        "칼럼들에 대한 내용만 출력"
      ],
      "metadata": {
        "id": "0h3txs7-VAP6"
      }
    },
    {
      "cell_type": "code",
      "source": [
        "whisky.columns"
      ],
      "metadata": {
        "colab": {
          "base_uri": "https://localhost:8080/"
        },
        "id": "zFDGGYwzU-S5",
        "outputId": "75d0fcbb-2b75-4a0c-d1a6-60ee980ee59a"
      },
      "execution_count": 21,
      "outputs": [
        {
          "output_type": "execute_result",
          "data": {
            "text/plain": [
              "Index(['RowID', 'Distillery', 'Body', 'Sweetness', 'Smoky', 'Medicinal',\n",
              "       'Tobacco', 'Honey', 'Spicy', 'Winey', 'Nutty', 'Malty', 'Fruity',\n",
              "       'Floral', 'Postcode', 'Latitude', 'Longitude'],\n",
              "      dtype='object')"
            ]
          },
          "metadata": {},
          "execution_count": 21
        }
      ]
    },
    {
      "cell_type": "markdown",
      "source": [
        "regions.txt 파일에서 Pandas 형태로 읽어온 데이터 출력"
      ],
      "metadata": {
        "id": "YJ52wUvAVDR-"
      }
    },
    {
      "cell_type": "code",
      "source": [
        "regions = pd.read_csv(\"./regions.txt\")\n",
        "\n",
        "whisky['Regions'] = regions\n",
        "print(whisky[\"Regions\"])"
      ],
      "metadata": {
        "colab": {
          "base_uri": "https://localhost:8080/"
        },
        "id": "KNPTvQX8WCFj",
        "outputId": "31d97ee9-ce98-434b-c214-e5e4b6df17ef"
      },
      "execution_count": 23,
      "outputs": [
        {
          "output_type": "stream",
          "name": "stdout",
          "text": [
            "0     Highlands\n",
            "1      Speyside\n",
            "2     Highlands\n",
            "3         Islay\n",
            "4     Highlands\n",
            "        ...    \n",
            "81      Islands\n",
            "82    Highlands\n",
            "83     Speyside\n",
            "84     Speyside\n",
            "85    Highlands\n",
            "Name: Regions, Length: 86, dtype: object\n"
          ]
        }
      ]
    },
    {
      "cell_type": "markdown",
      "source": [
        "데이터 참조"
      ],
      "metadata": {
        "id": "HQywQMgfWhQ4"
      }
    },
    {
      "cell_type": "code",
      "source": [
        "whisky.iloc[0:3]"
      ],
      "metadata": {
        "colab": {
          "base_uri": "https://localhost:8080/",
          "height": 143
        },
        "id": "TsnakDVbWYSM",
        "outputId": "286bb3a4-9bb0-4379-c85b-16904e9c5bfc"
      },
      "execution_count": 24,
      "outputs": [
        {
          "output_type": "execute_result",
          "data": {
            "text/plain": [
              "   RowID Distillery  Body  Sweetness  Smoky  Medicinal  Tobacco  Honey  Spicy  \\\n",
              "0      1  Aberfeldy     2          2      2          0        0      2      1   \n",
              "1      2   Aberlour     3          3      1          0        0      4      3   \n",
              "2      3     AnCnoc     1          3      2          0        0      2      0   \n",
              "\n",
              "   Winey  Nutty  Malty  Fruity  Floral     Postcode  Latitude  Longitude  \\\n",
              "0      2      2      2       2       2   \\tPH15 2EB    286580     749680   \n",
              "1      2      2      3       3       2   \\tAB38 9PJ    326340     842570   \n",
              "2      0      2      2       3       2    \\tAB5 5LI    352960     839320   \n",
              "\n",
              "     Regions  \n",
              "0  Highlands  \n",
              "1   Speyside  \n",
              "2  Highlands  "
            ],
            "text/html": [
              "\n",
              "  <div id=\"df-d5df859e-3905-4936-8634-687e593f1edf\" class=\"colab-df-container\">\n",
              "    <div>\n",
              "<style scoped>\n",
              "    .dataframe tbody tr th:only-of-type {\n",
              "        vertical-align: middle;\n",
              "    }\n",
              "\n",
              "    .dataframe tbody tr th {\n",
              "        vertical-align: top;\n",
              "    }\n",
              "\n",
              "    .dataframe thead th {\n",
              "        text-align: right;\n",
              "    }\n",
              "</style>\n",
              "<table border=\"1\" class=\"dataframe\">\n",
              "  <thead>\n",
              "    <tr style=\"text-align: right;\">\n",
              "      <th></th>\n",
              "      <th>RowID</th>\n",
              "      <th>Distillery</th>\n",
              "      <th>Body</th>\n",
              "      <th>Sweetness</th>\n",
              "      <th>Smoky</th>\n",
              "      <th>Medicinal</th>\n",
              "      <th>Tobacco</th>\n",
              "      <th>Honey</th>\n",
              "      <th>Spicy</th>\n",
              "      <th>Winey</th>\n",
              "      <th>Nutty</th>\n",
              "      <th>Malty</th>\n",
              "      <th>Fruity</th>\n",
              "      <th>Floral</th>\n",
              "      <th>Postcode</th>\n",
              "      <th>Latitude</th>\n",
              "      <th>Longitude</th>\n",
              "      <th>Regions</th>\n",
              "    </tr>\n",
              "  </thead>\n",
              "  <tbody>\n",
              "    <tr>\n",
              "      <th>0</th>\n",
              "      <td>1</td>\n",
              "      <td>Aberfeldy</td>\n",
              "      <td>2</td>\n",
              "      <td>2</td>\n",
              "      <td>2</td>\n",
              "      <td>0</td>\n",
              "      <td>0</td>\n",
              "      <td>2</td>\n",
              "      <td>1</td>\n",
              "      <td>2</td>\n",
              "      <td>2</td>\n",
              "      <td>2</td>\n",
              "      <td>2</td>\n",
              "      <td>2</td>\n",
              "      <td>\\tPH15 2EB</td>\n",
              "      <td>286580</td>\n",
              "      <td>749680</td>\n",
              "      <td>Highlands</td>\n",
              "    </tr>\n",
              "    <tr>\n",
              "      <th>1</th>\n",
              "      <td>2</td>\n",
              "      <td>Aberlour</td>\n",
              "      <td>3</td>\n",
              "      <td>3</td>\n",
              "      <td>1</td>\n",
              "      <td>0</td>\n",
              "      <td>0</td>\n",
              "      <td>4</td>\n",
              "      <td>3</td>\n",
              "      <td>2</td>\n",
              "      <td>2</td>\n",
              "      <td>3</td>\n",
              "      <td>3</td>\n",
              "      <td>2</td>\n",
              "      <td>\\tAB38 9PJ</td>\n",
              "      <td>326340</td>\n",
              "      <td>842570</td>\n",
              "      <td>Speyside</td>\n",
              "    </tr>\n",
              "    <tr>\n",
              "      <th>2</th>\n",
              "      <td>3</td>\n",
              "      <td>AnCnoc</td>\n",
              "      <td>1</td>\n",
              "      <td>3</td>\n",
              "      <td>2</td>\n",
              "      <td>0</td>\n",
              "      <td>0</td>\n",
              "      <td>2</td>\n",
              "      <td>0</td>\n",
              "      <td>0</td>\n",
              "      <td>2</td>\n",
              "      <td>2</td>\n",
              "      <td>3</td>\n",
              "      <td>2</td>\n",
              "      <td>\\tAB5 5LI</td>\n",
              "      <td>352960</td>\n",
              "      <td>839320</td>\n",
              "      <td>Highlands</td>\n",
              "    </tr>\n",
              "  </tbody>\n",
              "</table>\n",
              "</div>\n",
              "    <div class=\"colab-df-buttons\">\n",
              "\n",
              "  <div class=\"colab-df-container\">\n",
              "    <button class=\"colab-df-convert\" onclick=\"convertToInteractive('df-d5df859e-3905-4936-8634-687e593f1edf')\"\n",
              "            title=\"Convert this dataframe to an interactive table.\"\n",
              "            style=\"display:none;\">\n",
              "\n",
              "  <svg xmlns=\"http://www.w3.org/2000/svg\" height=\"24px\" viewBox=\"0 -960 960 960\">\n",
              "    <path d=\"M120-120v-720h720v720H120Zm60-500h600v-160H180v160Zm220 220h160v-160H400v160Zm0 220h160v-160H400v160ZM180-400h160v-160H180v160Zm440 0h160v-160H620v160ZM180-180h160v-160H180v160Zm440 0h160v-160H620v160Z\"/>\n",
              "  </svg>\n",
              "    </button>\n",
              "\n",
              "  <style>\n",
              "    .colab-df-container {\n",
              "      display:flex;\n",
              "      gap: 12px;\n",
              "    }\n",
              "\n",
              "    .colab-df-convert {\n",
              "      background-color: #E8F0FE;\n",
              "      border: none;\n",
              "      border-radius: 50%;\n",
              "      cursor: pointer;\n",
              "      display: none;\n",
              "      fill: #1967D2;\n",
              "      height: 32px;\n",
              "      padding: 0 0 0 0;\n",
              "      width: 32px;\n",
              "    }\n",
              "\n",
              "    .colab-df-convert:hover {\n",
              "      background-color: #E2EBFA;\n",
              "      box-shadow: 0px 1px 2px rgba(60, 64, 67, 0.3), 0px 1px 3px 1px rgba(60, 64, 67, 0.15);\n",
              "      fill: #174EA6;\n",
              "    }\n",
              "\n",
              "    .colab-df-buttons div {\n",
              "      margin-bottom: 4px;\n",
              "    }\n",
              "\n",
              "    [theme=dark] .colab-df-convert {\n",
              "      background-color: #3B4455;\n",
              "      fill: #D2E3FC;\n",
              "    }\n",
              "\n",
              "    [theme=dark] .colab-df-convert:hover {\n",
              "      background-color: #434B5C;\n",
              "      box-shadow: 0px 1px 3px 1px rgba(0, 0, 0, 0.15);\n",
              "      filter: drop-shadow(0px 1px 2px rgba(0, 0, 0, 0.3));\n",
              "      fill: #FFFFFF;\n",
              "    }\n",
              "  </style>\n",
              "\n",
              "    <script>\n",
              "      const buttonEl =\n",
              "        document.querySelector('#df-d5df859e-3905-4936-8634-687e593f1edf button.colab-df-convert');\n",
              "      buttonEl.style.display =\n",
              "        google.colab.kernel.accessAllowed ? 'block' : 'none';\n",
              "\n",
              "      async function convertToInteractive(key) {\n",
              "        const element = document.querySelector('#df-d5df859e-3905-4936-8634-687e593f1edf');\n",
              "        const dataTable =\n",
              "          await google.colab.kernel.invokeFunction('convertToInteractive',\n",
              "                                                    [key], {});\n",
              "        if (!dataTable) return;\n",
              "\n",
              "        const docLinkHtml = 'Like what you see? Visit the ' +\n",
              "          '<a target=\"_blank\" href=https://colab.research.google.com/notebooks/data_table.ipynb>data table notebook</a>'\n",
              "          + ' to learn more about interactive tables.';\n",
              "        element.innerHTML = '';\n",
              "        dataTable['output_type'] = 'display_data';\n",
              "        await google.colab.output.renderOutput(dataTable, element);\n",
              "        const docLink = document.createElement('div');\n",
              "        docLink.innerHTML = docLinkHtml;\n",
              "        element.appendChild(docLink);\n",
              "      }\n",
              "    </script>\n",
              "  </div>\n",
              "\n",
              "\n",
              "<div id=\"df-1d517da8-94df-4038-9c0b-0827ce91420d\">\n",
              "  <button class=\"colab-df-quickchart\" onclick=\"quickchart('df-1d517da8-94df-4038-9c0b-0827ce91420d')\"\n",
              "            title=\"Suggest charts\"\n",
              "            style=\"display:none;\">\n",
              "\n",
              "<svg xmlns=\"http://www.w3.org/2000/svg\" height=\"24px\"viewBox=\"0 0 24 24\"\n",
              "     width=\"24px\">\n",
              "    <g>\n",
              "        <path d=\"M19 3H5c-1.1 0-2 .9-2 2v14c0 1.1.9 2 2 2h14c1.1 0 2-.9 2-2V5c0-1.1-.9-2-2-2zM9 17H7v-7h2v7zm4 0h-2V7h2v10zm4 0h-2v-4h2v4z\"/>\n",
              "    </g>\n",
              "</svg>\n",
              "  </button>\n",
              "\n",
              "<style>\n",
              "  .colab-df-quickchart {\n",
              "      --bg-color: #E8F0FE;\n",
              "      --fill-color: #1967D2;\n",
              "      --hover-bg-color: #E2EBFA;\n",
              "      --hover-fill-color: #174EA6;\n",
              "      --disabled-fill-color: #AAA;\n",
              "      --disabled-bg-color: #DDD;\n",
              "  }\n",
              "\n",
              "  [theme=dark] .colab-df-quickchart {\n",
              "      --bg-color: #3B4455;\n",
              "      --fill-color: #D2E3FC;\n",
              "      --hover-bg-color: #434B5C;\n",
              "      --hover-fill-color: #FFFFFF;\n",
              "      --disabled-bg-color: #3B4455;\n",
              "      --disabled-fill-color: #666;\n",
              "  }\n",
              "\n",
              "  .colab-df-quickchart {\n",
              "    background-color: var(--bg-color);\n",
              "    border: none;\n",
              "    border-radius: 50%;\n",
              "    cursor: pointer;\n",
              "    display: none;\n",
              "    fill: var(--fill-color);\n",
              "    height: 32px;\n",
              "    padding: 0;\n",
              "    width: 32px;\n",
              "  }\n",
              "\n",
              "  .colab-df-quickchart:hover {\n",
              "    background-color: var(--hover-bg-color);\n",
              "    box-shadow: 0 1px 2px rgba(60, 64, 67, 0.3), 0 1px 3px 1px rgba(60, 64, 67, 0.15);\n",
              "    fill: var(--button-hover-fill-color);\n",
              "  }\n",
              "\n",
              "  .colab-df-quickchart-complete:disabled,\n",
              "  .colab-df-quickchart-complete:disabled:hover {\n",
              "    background-color: var(--disabled-bg-color);\n",
              "    fill: var(--disabled-fill-color);\n",
              "    box-shadow: none;\n",
              "  }\n",
              "\n",
              "  .colab-df-spinner {\n",
              "    border: 2px solid var(--fill-color);\n",
              "    border-color: transparent;\n",
              "    border-bottom-color: var(--fill-color);\n",
              "    animation:\n",
              "      spin 1s steps(1) infinite;\n",
              "  }\n",
              "\n",
              "  @keyframes spin {\n",
              "    0% {\n",
              "      border-color: transparent;\n",
              "      border-bottom-color: var(--fill-color);\n",
              "      border-left-color: var(--fill-color);\n",
              "    }\n",
              "    20% {\n",
              "      border-color: transparent;\n",
              "      border-left-color: var(--fill-color);\n",
              "      border-top-color: var(--fill-color);\n",
              "    }\n",
              "    30% {\n",
              "      border-color: transparent;\n",
              "      border-left-color: var(--fill-color);\n",
              "      border-top-color: var(--fill-color);\n",
              "      border-right-color: var(--fill-color);\n",
              "    }\n",
              "    40% {\n",
              "      border-color: transparent;\n",
              "      border-right-color: var(--fill-color);\n",
              "      border-top-color: var(--fill-color);\n",
              "    }\n",
              "    60% {\n",
              "      border-color: transparent;\n",
              "      border-right-color: var(--fill-color);\n",
              "    }\n",
              "    80% {\n",
              "      border-color: transparent;\n",
              "      border-right-color: var(--fill-color);\n",
              "      border-bottom-color: var(--fill-color);\n",
              "    }\n",
              "    90% {\n",
              "      border-color: transparent;\n",
              "      border-bottom-color: var(--fill-color);\n",
              "    }\n",
              "  }\n",
              "</style>\n",
              "\n",
              "  <script>\n",
              "    async function quickchart(key) {\n",
              "      const quickchartButtonEl =\n",
              "        document.querySelector('#' + key + ' button');\n",
              "      quickchartButtonEl.disabled = true;  // To prevent multiple clicks.\n",
              "      quickchartButtonEl.classList.add('colab-df-spinner');\n",
              "      try {\n",
              "        const charts = await google.colab.kernel.invokeFunction(\n",
              "            'suggestCharts', [key], {});\n",
              "      } catch (error) {\n",
              "        console.error('Error during call to suggestCharts:', error);\n",
              "      }\n",
              "      quickchartButtonEl.classList.remove('colab-df-spinner');\n",
              "      quickchartButtonEl.classList.add('colab-df-quickchart-complete');\n",
              "    }\n",
              "    (() => {\n",
              "      let quickchartButtonEl =\n",
              "        document.querySelector('#df-1d517da8-94df-4038-9c0b-0827ce91420d button');\n",
              "      quickchartButtonEl.style.display =\n",
              "        google.colab.kernel.accessAllowed ? 'block' : 'none';\n",
              "    })();\n",
              "  </script>\n",
              "</div>\n",
              "    </div>\n",
              "  </div>\n"
            ],
            "application/vnd.google.colaboratory.intrinsic+json": {
              "type": "dataframe",
              "summary": "{\n  \"name\": \"whisky\",\n  \"rows\": 3,\n  \"fields\": [\n    {\n      \"column\": \"RowID\",\n      \"properties\": {\n        \"dtype\": \"number\",\n        \"std\": 1,\n        \"min\": 1,\n        \"max\": 3,\n        \"num_unique_values\": 3,\n        \"samples\": [\n          1,\n          2,\n          3\n        ],\n        \"semantic_type\": \"\",\n        \"description\": \"\"\n      }\n    },\n    {\n      \"column\": \"Distillery\",\n      \"properties\": {\n        \"dtype\": \"string\",\n        \"num_unique_values\": 3,\n        \"samples\": [\n          \"Aberfeldy\",\n          \"Aberlour\",\n          \"AnCnoc\"\n        ],\n        \"semantic_type\": \"\",\n        \"description\": \"\"\n      }\n    },\n    {\n      \"column\": \"Body\",\n      \"properties\": {\n        \"dtype\": \"number\",\n        \"std\": 1,\n        \"min\": 1,\n        \"max\": 3,\n        \"num_unique_values\": 3,\n        \"samples\": [\n          2,\n          3,\n          1\n        ],\n        \"semantic_type\": \"\",\n        \"description\": \"\"\n      }\n    },\n    {\n      \"column\": \"Sweetness\",\n      \"properties\": {\n        \"dtype\": \"number\",\n        \"std\": 0,\n        \"min\": 2,\n        \"max\": 3,\n        \"num_unique_values\": 2,\n        \"samples\": [\n          3,\n          2\n        ],\n        \"semantic_type\": \"\",\n        \"description\": \"\"\n      }\n    },\n    {\n      \"column\": \"Smoky\",\n      \"properties\": {\n        \"dtype\": \"number\",\n        \"std\": 0,\n        \"min\": 1,\n        \"max\": 2,\n        \"num_unique_values\": 2,\n        \"samples\": [\n          1,\n          2\n        ],\n        \"semantic_type\": \"\",\n        \"description\": \"\"\n      }\n    },\n    {\n      \"column\": \"Medicinal\",\n      \"properties\": {\n        \"dtype\": \"number\",\n        \"std\": 0,\n        \"min\": 0,\n        \"max\": 0,\n        \"num_unique_values\": 1,\n        \"samples\": [\n          0\n        ],\n        \"semantic_type\": \"\",\n        \"description\": \"\"\n      }\n    },\n    {\n      \"column\": \"Tobacco\",\n      \"properties\": {\n        \"dtype\": \"number\",\n        \"std\": 0,\n        \"min\": 0,\n        \"max\": 0,\n        \"num_unique_values\": 1,\n        \"samples\": [\n          0\n        ],\n        \"semantic_type\": \"\",\n        \"description\": \"\"\n      }\n    },\n    {\n      \"column\": \"Honey\",\n      \"properties\": {\n        \"dtype\": \"number\",\n        \"std\": 1,\n        \"min\": 2,\n        \"max\": 4,\n        \"num_unique_values\": 2,\n        \"samples\": [\n          4\n        ],\n        \"semantic_type\": \"\",\n        \"description\": \"\"\n      }\n    },\n    {\n      \"column\": \"Spicy\",\n      \"properties\": {\n        \"dtype\": \"number\",\n        \"std\": 1,\n        \"min\": 0,\n        \"max\": 3,\n        \"num_unique_values\": 3,\n        \"samples\": [\n          1\n        ],\n        \"semantic_type\": \"\",\n        \"description\": \"\"\n      }\n    },\n    {\n      \"column\": \"Winey\",\n      \"properties\": {\n        \"dtype\": \"number\",\n        \"std\": 1,\n        \"min\": 0,\n        \"max\": 2,\n        \"num_unique_values\": 2,\n        \"samples\": [\n          0\n        ],\n        \"semantic_type\": \"\",\n        \"description\": \"\"\n      }\n    },\n    {\n      \"column\": \"Nutty\",\n      \"properties\": {\n        \"dtype\": \"number\",\n        \"std\": 0,\n        \"min\": 2,\n        \"max\": 2,\n        \"num_unique_values\": 1,\n        \"samples\": [\n          2\n        ],\n        \"semantic_type\": \"\",\n        \"description\": \"\"\n      }\n    },\n    {\n      \"column\": \"Malty\",\n      \"properties\": {\n        \"dtype\": \"number\",\n        \"std\": 0,\n        \"min\": 2,\n        \"max\": 3,\n        \"num_unique_values\": 2,\n        \"samples\": [\n          3\n        ],\n        \"semantic_type\": \"\",\n        \"description\": \"\"\n      }\n    },\n    {\n      \"column\": \"Fruity\",\n      \"properties\": {\n        \"dtype\": \"number\",\n        \"std\": 0,\n        \"min\": 2,\n        \"max\": 3,\n        \"num_unique_values\": 2,\n        \"samples\": [\n          3\n        ],\n        \"semantic_type\": \"\",\n        \"description\": \"\"\n      }\n    },\n    {\n      \"column\": \"Floral\",\n      \"properties\": {\n        \"dtype\": \"number\",\n        \"std\": 0,\n        \"min\": 2,\n        \"max\": 2,\n        \"num_unique_values\": 1,\n        \"samples\": [\n          2\n        ],\n        \"semantic_type\": \"\",\n        \"description\": \"\"\n      }\n    },\n    {\n      \"column\": \"Postcode\",\n      \"properties\": {\n        \"dtype\": \"string\",\n        \"num_unique_values\": 3,\n        \"samples\": [\n          \" \\tPH15 2EB\"\n        ],\n        \"semantic_type\": \"\",\n        \"description\": \"\"\n      }\n    },\n    {\n      \"column\": \"Latitude\",\n      \"properties\": {\n        \"dtype\": \"number\",\n        \"std\": 33406,\n        \"min\": 286580,\n        \"max\": 352960,\n        \"num_unique_values\": 3,\n        \"samples\": [\n          286580\n        ],\n        \"semantic_type\": \"\",\n        \"description\": \"\"\n      }\n    },\n    {\n      \"column\": \"Longitude\",\n      \"properties\": {\n        \"dtype\": \"number\",\n        \"std\": 52716,\n        \"min\": 749680,\n        \"max\": 842570,\n        \"num_unique_values\": 3,\n        \"samples\": [\n          749680\n        ],\n        \"semantic_type\": \"\",\n        \"description\": \"\"\n      }\n    },\n    {\n      \"column\": \"Regions\",\n      \"properties\": {\n        \"dtype\": \"string\",\n        \"num_unique_values\": 2,\n        \"samples\": [\n          \"Speyside\"\n        ],\n        \"semantic_type\": \"\",\n        \"description\": \"\"\n      }\n    }\n  ]\n}"
            }
          },
          "metadata": {},
          "execution_count": 24
        }
      ]
    },
    {
      "cell_type": "code",
      "source": [
        "whisky.iloc[0:3, 2:14]"
      ],
      "metadata": {
        "colab": {
          "base_uri": "https://localhost:8080/",
          "height": 143
        },
        "id": "Nes87K3bWb1F",
        "outputId": "247b2ae4-a0e0-47d5-92e3-f49eaf1524bb"
      },
      "execution_count": 25,
      "outputs": [
        {
          "output_type": "execute_result",
          "data": {
            "text/plain": [
              "   Body  Sweetness  Smoky  Medicinal  Tobacco  Honey  Spicy  Winey  Nutty  \\\n",
              "0     2          2      2          0        0      2      1      2      2   \n",
              "1     3          3      1          0        0      4      3      2      2   \n",
              "2     1          3      2          0        0      2      0      0      2   \n",
              "\n",
              "   Malty  Fruity  Floral  \n",
              "0      2       2       2  \n",
              "1      3       3       2  \n",
              "2      2       3       2  "
            ],
            "text/html": [
              "\n",
              "  <div id=\"df-3e7e926d-a659-4037-b846-fa7778178101\" class=\"colab-df-container\">\n",
              "    <div>\n",
              "<style scoped>\n",
              "    .dataframe tbody tr th:only-of-type {\n",
              "        vertical-align: middle;\n",
              "    }\n",
              "\n",
              "    .dataframe tbody tr th {\n",
              "        vertical-align: top;\n",
              "    }\n",
              "\n",
              "    .dataframe thead th {\n",
              "        text-align: right;\n",
              "    }\n",
              "</style>\n",
              "<table border=\"1\" class=\"dataframe\">\n",
              "  <thead>\n",
              "    <tr style=\"text-align: right;\">\n",
              "      <th></th>\n",
              "      <th>Body</th>\n",
              "      <th>Sweetness</th>\n",
              "      <th>Smoky</th>\n",
              "      <th>Medicinal</th>\n",
              "      <th>Tobacco</th>\n",
              "      <th>Honey</th>\n",
              "      <th>Spicy</th>\n",
              "      <th>Winey</th>\n",
              "      <th>Nutty</th>\n",
              "      <th>Malty</th>\n",
              "      <th>Fruity</th>\n",
              "      <th>Floral</th>\n",
              "    </tr>\n",
              "  </thead>\n",
              "  <tbody>\n",
              "    <tr>\n",
              "      <th>0</th>\n",
              "      <td>2</td>\n",
              "      <td>2</td>\n",
              "      <td>2</td>\n",
              "      <td>0</td>\n",
              "      <td>0</td>\n",
              "      <td>2</td>\n",
              "      <td>1</td>\n",
              "      <td>2</td>\n",
              "      <td>2</td>\n",
              "      <td>2</td>\n",
              "      <td>2</td>\n",
              "      <td>2</td>\n",
              "    </tr>\n",
              "    <tr>\n",
              "      <th>1</th>\n",
              "      <td>3</td>\n",
              "      <td>3</td>\n",
              "      <td>1</td>\n",
              "      <td>0</td>\n",
              "      <td>0</td>\n",
              "      <td>4</td>\n",
              "      <td>3</td>\n",
              "      <td>2</td>\n",
              "      <td>2</td>\n",
              "      <td>3</td>\n",
              "      <td>3</td>\n",
              "      <td>2</td>\n",
              "    </tr>\n",
              "    <tr>\n",
              "      <th>2</th>\n",
              "      <td>1</td>\n",
              "      <td>3</td>\n",
              "      <td>2</td>\n",
              "      <td>0</td>\n",
              "      <td>0</td>\n",
              "      <td>2</td>\n",
              "      <td>0</td>\n",
              "      <td>0</td>\n",
              "      <td>2</td>\n",
              "      <td>2</td>\n",
              "      <td>3</td>\n",
              "      <td>2</td>\n",
              "    </tr>\n",
              "  </tbody>\n",
              "</table>\n",
              "</div>\n",
              "    <div class=\"colab-df-buttons\">\n",
              "\n",
              "  <div class=\"colab-df-container\">\n",
              "    <button class=\"colab-df-convert\" onclick=\"convertToInteractive('df-3e7e926d-a659-4037-b846-fa7778178101')\"\n",
              "            title=\"Convert this dataframe to an interactive table.\"\n",
              "            style=\"display:none;\">\n",
              "\n",
              "  <svg xmlns=\"http://www.w3.org/2000/svg\" height=\"24px\" viewBox=\"0 -960 960 960\">\n",
              "    <path d=\"M120-120v-720h720v720H120Zm60-500h600v-160H180v160Zm220 220h160v-160H400v160Zm0 220h160v-160H400v160ZM180-400h160v-160H180v160Zm440 0h160v-160H620v160ZM180-180h160v-160H180v160Zm440 0h160v-160H620v160Z\"/>\n",
              "  </svg>\n",
              "    </button>\n",
              "\n",
              "  <style>\n",
              "    .colab-df-container {\n",
              "      display:flex;\n",
              "      gap: 12px;\n",
              "    }\n",
              "\n",
              "    .colab-df-convert {\n",
              "      background-color: #E8F0FE;\n",
              "      border: none;\n",
              "      border-radius: 50%;\n",
              "      cursor: pointer;\n",
              "      display: none;\n",
              "      fill: #1967D2;\n",
              "      height: 32px;\n",
              "      padding: 0 0 0 0;\n",
              "      width: 32px;\n",
              "    }\n",
              "\n",
              "    .colab-df-convert:hover {\n",
              "      background-color: #E2EBFA;\n",
              "      box-shadow: 0px 1px 2px rgba(60, 64, 67, 0.3), 0px 1px 3px 1px rgba(60, 64, 67, 0.15);\n",
              "      fill: #174EA6;\n",
              "    }\n",
              "\n",
              "    .colab-df-buttons div {\n",
              "      margin-bottom: 4px;\n",
              "    }\n",
              "\n",
              "    [theme=dark] .colab-df-convert {\n",
              "      background-color: #3B4455;\n",
              "      fill: #D2E3FC;\n",
              "    }\n",
              "\n",
              "    [theme=dark] .colab-df-convert:hover {\n",
              "      background-color: #434B5C;\n",
              "      box-shadow: 0px 1px 3px 1px rgba(0, 0, 0, 0.15);\n",
              "      filter: drop-shadow(0px 1px 2px rgba(0, 0, 0, 0.3));\n",
              "      fill: #FFFFFF;\n",
              "    }\n",
              "  </style>\n",
              "\n",
              "    <script>\n",
              "      const buttonEl =\n",
              "        document.querySelector('#df-3e7e926d-a659-4037-b846-fa7778178101 button.colab-df-convert');\n",
              "      buttonEl.style.display =\n",
              "        google.colab.kernel.accessAllowed ? 'block' : 'none';\n",
              "\n",
              "      async function convertToInteractive(key) {\n",
              "        const element = document.querySelector('#df-3e7e926d-a659-4037-b846-fa7778178101');\n",
              "        const dataTable =\n",
              "          await google.colab.kernel.invokeFunction('convertToInteractive',\n",
              "                                                    [key], {});\n",
              "        if (!dataTable) return;\n",
              "\n",
              "        const docLinkHtml = 'Like what you see? Visit the ' +\n",
              "          '<a target=\"_blank\" href=https://colab.research.google.com/notebooks/data_table.ipynb>data table notebook</a>'\n",
              "          + ' to learn more about interactive tables.';\n",
              "        element.innerHTML = '';\n",
              "        dataTable['output_type'] = 'display_data';\n",
              "        await google.colab.output.renderOutput(dataTable, element);\n",
              "        const docLink = document.createElement('div');\n",
              "        docLink.innerHTML = docLinkHtml;\n",
              "        element.appendChild(docLink);\n",
              "      }\n",
              "    </script>\n",
              "  </div>\n",
              "\n",
              "\n",
              "<div id=\"df-1be839e2-63ce-4eab-b533-0078dc567b6e\">\n",
              "  <button class=\"colab-df-quickchart\" onclick=\"quickchart('df-1be839e2-63ce-4eab-b533-0078dc567b6e')\"\n",
              "            title=\"Suggest charts\"\n",
              "            style=\"display:none;\">\n",
              "\n",
              "<svg xmlns=\"http://www.w3.org/2000/svg\" height=\"24px\"viewBox=\"0 0 24 24\"\n",
              "     width=\"24px\">\n",
              "    <g>\n",
              "        <path d=\"M19 3H5c-1.1 0-2 .9-2 2v14c0 1.1.9 2 2 2h14c1.1 0 2-.9 2-2V5c0-1.1-.9-2-2-2zM9 17H7v-7h2v7zm4 0h-2V7h2v10zm4 0h-2v-4h2v4z\"/>\n",
              "    </g>\n",
              "</svg>\n",
              "  </button>\n",
              "\n",
              "<style>\n",
              "  .colab-df-quickchart {\n",
              "      --bg-color: #E8F0FE;\n",
              "      --fill-color: #1967D2;\n",
              "      --hover-bg-color: #E2EBFA;\n",
              "      --hover-fill-color: #174EA6;\n",
              "      --disabled-fill-color: #AAA;\n",
              "      --disabled-bg-color: #DDD;\n",
              "  }\n",
              "\n",
              "  [theme=dark] .colab-df-quickchart {\n",
              "      --bg-color: #3B4455;\n",
              "      --fill-color: #D2E3FC;\n",
              "      --hover-bg-color: #434B5C;\n",
              "      --hover-fill-color: #FFFFFF;\n",
              "      --disabled-bg-color: #3B4455;\n",
              "      --disabled-fill-color: #666;\n",
              "  }\n",
              "\n",
              "  .colab-df-quickchart {\n",
              "    background-color: var(--bg-color);\n",
              "    border: none;\n",
              "    border-radius: 50%;\n",
              "    cursor: pointer;\n",
              "    display: none;\n",
              "    fill: var(--fill-color);\n",
              "    height: 32px;\n",
              "    padding: 0;\n",
              "    width: 32px;\n",
              "  }\n",
              "\n",
              "  .colab-df-quickchart:hover {\n",
              "    background-color: var(--hover-bg-color);\n",
              "    box-shadow: 0 1px 2px rgba(60, 64, 67, 0.3), 0 1px 3px 1px rgba(60, 64, 67, 0.15);\n",
              "    fill: var(--button-hover-fill-color);\n",
              "  }\n",
              "\n",
              "  .colab-df-quickchart-complete:disabled,\n",
              "  .colab-df-quickchart-complete:disabled:hover {\n",
              "    background-color: var(--disabled-bg-color);\n",
              "    fill: var(--disabled-fill-color);\n",
              "    box-shadow: none;\n",
              "  }\n",
              "\n",
              "  .colab-df-spinner {\n",
              "    border: 2px solid var(--fill-color);\n",
              "    border-color: transparent;\n",
              "    border-bottom-color: var(--fill-color);\n",
              "    animation:\n",
              "      spin 1s steps(1) infinite;\n",
              "  }\n",
              "\n",
              "  @keyframes spin {\n",
              "    0% {\n",
              "      border-color: transparent;\n",
              "      border-bottom-color: var(--fill-color);\n",
              "      border-left-color: var(--fill-color);\n",
              "    }\n",
              "    20% {\n",
              "      border-color: transparent;\n",
              "      border-left-color: var(--fill-color);\n",
              "      border-top-color: var(--fill-color);\n",
              "    }\n",
              "    30% {\n",
              "      border-color: transparent;\n",
              "      border-left-color: var(--fill-color);\n",
              "      border-top-color: var(--fill-color);\n",
              "      border-right-color: var(--fill-color);\n",
              "    }\n",
              "    40% {\n",
              "      border-color: transparent;\n",
              "      border-right-color: var(--fill-color);\n",
              "      border-top-color: var(--fill-color);\n",
              "    }\n",
              "    60% {\n",
              "      border-color: transparent;\n",
              "      border-right-color: var(--fill-color);\n",
              "    }\n",
              "    80% {\n",
              "      border-color: transparent;\n",
              "      border-right-color: var(--fill-color);\n",
              "      border-bottom-color: var(--fill-color);\n",
              "    }\n",
              "    90% {\n",
              "      border-color: transparent;\n",
              "      border-bottom-color: var(--fill-color);\n",
              "    }\n",
              "  }\n",
              "</style>\n",
              "\n",
              "  <script>\n",
              "    async function quickchart(key) {\n",
              "      const quickchartButtonEl =\n",
              "        document.querySelector('#' + key + ' button');\n",
              "      quickchartButtonEl.disabled = true;  // To prevent multiple clicks.\n",
              "      quickchartButtonEl.classList.add('colab-df-spinner');\n",
              "      try {\n",
              "        const charts = await google.colab.kernel.invokeFunction(\n",
              "            'suggestCharts', [key], {});\n",
              "      } catch (error) {\n",
              "        console.error('Error during call to suggestCharts:', error);\n",
              "      }\n",
              "      quickchartButtonEl.classList.remove('colab-df-spinner');\n",
              "      quickchartButtonEl.classList.add('colab-df-quickchart-complete');\n",
              "    }\n",
              "    (() => {\n",
              "      let quickchartButtonEl =\n",
              "        document.querySelector('#df-1be839e2-63ce-4eab-b533-0078dc567b6e button');\n",
              "      quickchartButtonEl.style.display =\n",
              "        google.colab.kernel.accessAllowed ? 'block' : 'none';\n",
              "    })();\n",
              "  </script>\n",
              "</div>\n",
              "    </div>\n",
              "  </div>\n"
            ],
            "application/vnd.google.colaboratory.intrinsic+json": {
              "type": "dataframe",
              "summary": "{\n  \"name\": \"whisky\",\n  \"rows\": 3,\n  \"fields\": [\n    {\n      \"column\": \"Body\",\n      \"properties\": {\n        \"dtype\": \"number\",\n        \"std\": 1,\n        \"min\": 1,\n        \"max\": 3,\n        \"num_unique_values\": 3,\n        \"samples\": [\n          2,\n          3,\n          1\n        ],\n        \"semantic_type\": \"\",\n        \"description\": \"\"\n      }\n    },\n    {\n      \"column\": \"Sweetness\",\n      \"properties\": {\n        \"dtype\": \"number\",\n        \"std\": 0,\n        \"min\": 2,\n        \"max\": 3,\n        \"num_unique_values\": 2,\n        \"samples\": [\n          3,\n          2\n        ],\n        \"semantic_type\": \"\",\n        \"description\": \"\"\n      }\n    },\n    {\n      \"column\": \"Smoky\",\n      \"properties\": {\n        \"dtype\": \"number\",\n        \"std\": 0,\n        \"min\": 1,\n        \"max\": 2,\n        \"num_unique_values\": 2,\n        \"samples\": [\n          1,\n          2\n        ],\n        \"semantic_type\": \"\",\n        \"description\": \"\"\n      }\n    },\n    {\n      \"column\": \"Medicinal\",\n      \"properties\": {\n        \"dtype\": \"number\",\n        \"std\": 0,\n        \"min\": 0,\n        \"max\": 0,\n        \"num_unique_values\": 1,\n        \"samples\": [\n          0\n        ],\n        \"semantic_type\": \"\",\n        \"description\": \"\"\n      }\n    },\n    {\n      \"column\": \"Tobacco\",\n      \"properties\": {\n        \"dtype\": \"number\",\n        \"std\": 0,\n        \"min\": 0,\n        \"max\": 0,\n        \"num_unique_values\": 1,\n        \"samples\": [\n          0\n        ],\n        \"semantic_type\": \"\",\n        \"description\": \"\"\n      }\n    },\n    {\n      \"column\": \"Honey\",\n      \"properties\": {\n        \"dtype\": \"number\",\n        \"std\": 1,\n        \"min\": 2,\n        \"max\": 4,\n        \"num_unique_values\": 2,\n        \"samples\": [\n          4\n        ],\n        \"semantic_type\": \"\",\n        \"description\": \"\"\n      }\n    },\n    {\n      \"column\": \"Spicy\",\n      \"properties\": {\n        \"dtype\": \"number\",\n        \"std\": 1,\n        \"min\": 0,\n        \"max\": 3,\n        \"num_unique_values\": 3,\n        \"samples\": [\n          1\n        ],\n        \"semantic_type\": \"\",\n        \"description\": \"\"\n      }\n    },\n    {\n      \"column\": \"Winey\",\n      \"properties\": {\n        \"dtype\": \"number\",\n        \"std\": 1,\n        \"min\": 0,\n        \"max\": 2,\n        \"num_unique_values\": 2,\n        \"samples\": [\n          0\n        ],\n        \"semantic_type\": \"\",\n        \"description\": \"\"\n      }\n    },\n    {\n      \"column\": \"Nutty\",\n      \"properties\": {\n        \"dtype\": \"number\",\n        \"std\": 0,\n        \"min\": 2,\n        \"max\": 2,\n        \"num_unique_values\": 1,\n        \"samples\": [\n          2\n        ],\n        \"semantic_type\": \"\",\n        \"description\": \"\"\n      }\n    },\n    {\n      \"column\": \"Malty\",\n      \"properties\": {\n        \"dtype\": \"number\",\n        \"std\": 0,\n        \"min\": 2,\n        \"max\": 3,\n        \"num_unique_values\": 2,\n        \"samples\": [\n          3\n        ],\n        \"semantic_type\": \"\",\n        \"description\": \"\"\n      }\n    },\n    {\n      \"column\": \"Fruity\",\n      \"properties\": {\n        \"dtype\": \"number\",\n        \"std\": 0,\n        \"min\": 2,\n        \"max\": 3,\n        \"num_unique_values\": 2,\n        \"samples\": [\n          3\n        ],\n        \"semantic_type\": \"\",\n        \"description\": \"\"\n      }\n    },\n    {\n      \"column\": \"Floral\",\n      \"properties\": {\n        \"dtype\": \"number\",\n        \"std\": 0,\n        \"min\": 2,\n        \"max\": 2,\n        \"num_unique_values\": 1,\n        \"samples\": [\n          2\n        ],\n        \"semantic_type\": \"\",\n        \"description\": \"\"\n      }\n    }\n  ]\n}"
            }
          },
          "metadata": {},
          "execution_count": 25
        }
      ]
    },
    {
      "cell_type": "markdown",
      "source": [
        "위스키의 향미"
      ],
      "metadata": {
        "id": "L5v6-mXFWjUB"
      }
    },
    {
      "cell_type": "code",
      "source": [
        "flavors = whisky.iloc[:, 2:14]\n",
        "print(flavors)"
      ],
      "metadata": {
        "colab": {
          "base_uri": "https://localhost:8080/"
        },
        "id": "xxgTGL-cWlvi",
        "outputId": "6e6078ba-7172-4784-9516-4a8d95eac135"
      },
      "execution_count": 26,
      "outputs": [
        {
          "output_type": "stream",
          "name": "stdout",
          "text": [
            "    Body  Sweetness  Smoky  Medicinal  Tobacco  Honey  Spicy  Winey  Nutty  \\\n",
            "0      2          2      2          0        0      2      1      2      2   \n",
            "1      3          3      1          0        0      4      3      2      2   \n",
            "2      1          3      2          0        0      2      0      0      2   \n",
            "3      4          1      4          4        0      0      2      0      1   \n",
            "4      2          2      2          0        0      1      1      1      2   \n",
            "..   ...        ...    ...        ...      ...    ...    ...    ...    ...   \n",
            "81     1          1      1          0        0      1      0      0      1   \n",
            "82     2          3      2          0        0      2      2      1      1   \n",
            "83     0          3      1          0        0      2      2      1      1   \n",
            "84     2          2      1          0        0      1      0      1      2   \n",
            "85     2          3      0          0        1      0      2      1      1   \n",
            "\n",
            "    Malty  Fruity  Floral  \n",
            "0       2       2       2  \n",
            "1       3       3       2  \n",
            "2       2       3       2  \n",
            "3       2       1       0  \n",
            "4       3       1       1  \n",
            "..    ...     ...     ...  \n",
            "81      2       2       2  \n",
            "82      2       0       1  \n",
            "83      2       1       2  \n",
            "84      1       0       0  \n",
            "85      2       2       1  \n",
            "\n",
            "[86 rows x 12 columns]\n"
          ]
        }
      ]
    },
    {
      "cell_type": "markdown",
      "source": [
        "향미 간의 상관관계 계산"
      ],
      "metadata": {
        "id": "NrsLtWaRWuQq"
      }
    },
    {
      "cell_type": "code",
      "source": [
        "corr_flavors = pd.DataFrame.corr(flavors)\n",
        "print(corr_flavors)"
      ],
      "metadata": {
        "colab": {
          "base_uri": "https://localhost:8080/"
        },
        "id": "MXayIjQqWwnJ",
        "outputId": "94f2e1ab-9429-4527-961b-c6bce8bb2929"
      },
      "execution_count": 28,
      "outputs": [
        {
          "output_type": "stream",
          "name": "stdout",
          "text": [
            "               Body  Sweetness     Smoky  Medicinal   Tobacco     Honey  \\\n",
            "Body       1.000000  -0.136518  0.524032   0.354050  0.168718  0.082031   \n",
            "Sweetness -0.136518   1.000000 -0.405897  -0.392017 -0.147871  0.132558   \n",
            "Smoky      0.524032  -0.405897  1.000000   0.686071  0.365501 -0.195318   \n",
            "Medicinal  0.354050  -0.392017  0.686071   1.000000  0.425106 -0.396629   \n",
            "Tobacco    0.168718  -0.147871  0.365501   0.425106  1.000000 -0.275490   \n",
            "Honey      0.082031   0.132558 -0.195318  -0.396629 -0.275490  1.000000   \n",
            "Spicy      0.188500  -0.054200  0.231745   0.044903  0.054068  0.139563   \n",
            "Winey      0.408576   0.115727 -0.028190  -0.202651  0.009097  0.362021   \n",
            "Nutty      0.126323  -0.032493 -0.023132  -0.113671 -0.117717  0.188492   \n",
            "Malty     -0.116859  -0.001516 -0.192875  -0.258959 -0.059347  0.310184   \n",
            "Fruity    -0.013205   0.019820 -0.312970  -0.330975 -0.235145  0.108822   \n",
            "Floral    -0.461203   0.144987 -0.431663  -0.511323 -0.212375  0.183029   \n",
            "\n",
            "              Spicy     Winey     Nutty     Malty    Fruity    Floral  \n",
            "Body       0.188500  0.408576  0.126323 -0.116859 -0.013205 -0.461203  \n",
            "Sweetness -0.054200  0.115727 -0.032493 -0.001516  0.019820  0.144987  \n",
            "Smoky      0.231745 -0.028190 -0.023132 -0.192875 -0.312970 -0.431663  \n",
            "Medicinal  0.044903 -0.202651 -0.113671 -0.258959 -0.330975 -0.511323  \n",
            "Tobacco    0.054068  0.009097 -0.117717 -0.059347 -0.235145 -0.212375  \n",
            "Honey      0.139563  0.362021  0.188492  0.310184  0.108822  0.183029  \n",
            "Spicy      1.000000  0.092704 -0.042856  0.036303  0.144714  0.034663  \n",
            "Winey      0.092704  1.000000  0.198467  0.112368  0.090694 -0.126932  \n",
            "Nutty     -0.042856  0.198467  1.000000  0.066157  0.071765  0.018302  \n",
            "Malty      0.036303  0.112368  0.066157  1.000000  0.207288  0.106309  \n",
            "Fruity     0.144714  0.090694  0.071765  0.207288  1.000000  0.262336  \n",
            "Floral     0.034663 -0.126932  0.018302  0.106309  0.262336  1.000000  \n"
          ]
        }
      ]
    },
    {
      "cell_type": "code",
      "source": [
        "import matplotlib.pyplot as plt\n",
        "\n",
        "plt.pcolor(corr_flavors)\n",
        "plt.colorbar()"
      ],
      "metadata": {
        "colab": {
          "base_uri": "https://localhost:8080/",
          "height": 453
        },
        "id": "yPskQCjqW2pk",
        "outputId": "55116e25-876a-4bba-dcec-fc63be8003c6"
      },
      "execution_count": 29,
      "outputs": [
        {
          "output_type": "execute_result",
          "data": {
            "text/plain": [
              "<matplotlib.colorbar.Colorbar at 0x7c3c3bc292d0>"
            ]
          },
          "metadata": {},
          "execution_count": 29
        },
        {
          "output_type": "display_data",
          "data": {
            "text/plain": [
              "<Figure size 640x480 with 2 Axes>"
            ],
            "image/png": "[encoded data removed]"
          },
          "metadata": {}
        }
      ]
    },
    {
      "cell_type": "markdown",
      "source": [
        "flavors의 테이블을 전치시켜서 상관관계를 계산"
      ],
      "metadata": {
        "id": "xHewRv3eXFso"
      }
    },
    {
      "cell_type": "code",
      "source": [
        "corr_whisky = pd.DataFrame(flavors.transpose())\n",
        "print(corr_whisky)"
      ],
      "metadata": {
        "colab": {
          "base_uri": "https://localhost:8080/"
        },
        "id": "erCGySgWXIZw",
        "outputId": "0ea3e7f4-edb2-462c-da8e-f8819efbf37d"
      },
      "execution_count": 30,
      "outputs": [
        {
          "output_type": "stream",
          "name": "stdout",
          "text": [
            "           0   1   2   3   4   5   6   7   8   9   ...  76  77  78  79  80  \\\n",
            "Body        2   3   1   4   2   2   0   2   2   2  ...   2   4   1   1   2   \n",
            "Sweetness   2   3   3   1   2   3   2   3   2   3  ...   3   2   2   3   2   \n",
            "Smoky       2   1   2   4   2   1   0   1   1   2  ...   1   3   1   2   2   \n",
            "Medicinal   0   0   0   4   0   1   0   0   0   1  ...   0   3   0   0   1   \n",
            "Tobacco     0   0   0   0   0   0   0   0   0   0  ...   0   0   0   0   0   \n",
            "Honey       2   4   2   0   1   1   1   2   1   0  ...   0   1   2   0   0   \n",
            "Spicy       1   3   0   2   1   1   1   1   0   2  ...   2   3   0   2   2   \n",
            "Winey       2   2   0   0   1   1   0   2   0   0  ...   0   0   1   0   0   \n",
            "Nutty       2   2   2   1   2   0   2   2   2   2  ...   2   1   1   2   0   \n",
            "Malty       2   3   2   2   3   1   2   2   2   1  ...   1   2   2   1   0   \n",
            "Fruity      2   3   3   1   1   1   3   2   2   2  ...   3   2   2   2   2   \n",
            "Floral      2   2   2   0   1   2   3   1   2   1  ...   2   0   2   3   2   \n",
            "\n",
            "           81  82  83  84  85  \n",
            "Body        1   2   0   2   2  \n",
            "Sweetness   1   3   3   2   3  \n",
            "Smoky       1   2   1   1   0  \n",
            "Medicinal   0   0   0   0   0  \n",
            "Tobacco     0   0   0   0   1  \n",
            "Honey       1   2   2   1   0  \n",
            "Spicy       0   2   2   0   2  \n",
            "Winey       0   1   1   1   1  \n",
            "Nutty       1   1   1   2   1  \n",
            "Malty       2   2   2   1   2  \n",
            "Fruity      2   0   1   0   2  \n",
            "Floral      2   1   2   0   1  \n",
            "\n",
            "[12 rows x 86 columns]\n"
          ]
        }
      ]
    },
    {
      "cell_type": "code",
      "source": [
        "corr_whisky = pd.DataFrame.corr(flavors.transpose())\n",
        "plt.figure(figsize=(10, 10))\n",
        "plt.pcolor(corr_whisky)\n",
        "plt.colorbar"
      ],
      "metadata": {
        "colab": {
          "base_uri": "https://localhost:8080/",
          "height": 998
        },
        "id": "FjI5LaIEXacJ",
        "outputId": "b3a41c96-9c48-47a9-b94b-ee53a6619cae"
      },
      "execution_count": 31,
      "outputs": [
        {
          "output_type": "execute_result",
          "data": {
            "text/plain": [
              "<function matplotlib.pyplot.colorbar(mappable=None, cax=None, ax=None, **kwargs)>"
            ],
            "text/html": [
              "<div style=\"max-width:800px; border: 1px solid var(--colab-border-color);\"><style>\n",
              "      pre.function-repr-contents {\n",
              "        overflow-x: auto;\n",
              "        padding: 8px 12px;\n",
              "        max-height: 500px;\n",
              "      }\n",
              "\n",
              "      pre.function-repr-contents.function-repr-contents-collapsed {\n",
              "        cursor: pointer;\n",
              "        max-height: 100px;\n",
              "      }\n",
              "    </style>\n",
              "    <pre style=\"white-space: initial; background:\n",
              "         var(--colab-secondary-surface-color); padding: 8px 12px;\n",
              "         border-bottom: 1px solid var(--colab-border-color);\"><b>matplotlib.pyplot.colorbar</b><br/>def colorbar(mappable=None, cax=None, ax=None, **kwargs)</pre><pre class=\"function-repr-contents function-repr-contents-collapsed\" style=\"\"><a class=\"filepath\" style=\"display:none\" href=\"#\">/usr/local/lib/python3.10/dist-packages/matplotlib/pyplot.py</a>Add a colorbar to a plot.\n",
              "\n",
              "Parameters\n",
              "----------\n",
              "mappable\n",
              "    The `matplotlib.cm.ScalarMappable` (i.e., `.AxesImage`,\n",
              "    `.ContourSet`, etc.) described by this colorbar.  This argument is\n",
              "    mandatory for the `.Figure.colorbar` method but optional for the\n",
              "    `.pyplot.colorbar` function, which sets the default to the current\n",
              "    image.\n",
              "\n",
              "    Note that one can create a `.ScalarMappable` &quot;on-the-fly&quot; to\n",
              "    generate colorbars not attached to a previously drawn artist, e.g.\n",
              "    ::\n",
              "\n",
              "        fig.colorbar(cm.ScalarMappable(norm=norm, cmap=cmap), ax=ax)\n",
              "\n",
              "cax : `~matplotlib.axes.Axes`, optional\n",
              "    Axes into which the colorbar will be drawn.\n",
              "\n",
              "ax : `~.axes.Axes` or iterable or `numpy.ndarray` of Axes, optional\n",
              "    One or more parent axes from which space for a new colorbar axes\n",
              "    will be stolen, if *cax* is None.  This has no effect if *cax* is\n",
              "    set.\n",
              "\n",
              "use_gridspec : bool, optional\n",
              "    If *cax* is ``None``, a new *cax* is created as an instance of\n",
              "    Axes.  If *ax* is positioned with a subplotspec and *use_gridspec*\n",
              "    is ``True``, then *cax* is also positioned with a subplotspec.\n",
              "\n",
              "Returns\n",
              "-------\n",
              "colorbar : `~matplotlib.colorbar.Colorbar`\n",
              "\n",
              "Other Parameters\n",
              "----------------\n",
              "\n",
              "location : None or {&#x27;left&#x27;, &#x27;right&#x27;, &#x27;top&#x27;, &#x27;bottom&#x27;}\n",
              "    The location, relative to the parent axes, where the colorbar axes\n",
              "    is created.  It also determines the *orientation* of the colorbar\n",
              "    (colorbars on the left and right are vertical, colorbars at the top\n",
              "    and bottom are horizontal).  If None, the location will come from the\n",
              "    *orientation* if it is set (vertical colorbars on the right, horizontal\n",
              "    ones at the bottom), or default to &#x27;right&#x27; if *orientation* is unset.\n",
              "\n",
              "orientation : None or {&#x27;vertical&#x27;, &#x27;horizontal&#x27;}\n",
              "    The orientation of the colorbar.  It is preferable to set the *location*\n",
              "    of the colorbar, as that also determines the *orientation*; passing\n",
              "    incompatible values for *location* and *orientation* raises an exception.\n",
              "\n",
              "fraction : float, default: 0.15\n",
              "    Fraction of original axes to use for colorbar.\n",
              "\n",
              "shrink : float, default: 1.0\n",
              "    Fraction by which to multiply the size of the colorbar.\n",
              "\n",
              "aspect : float, default: 20\n",
              "    Ratio of long to short dimensions.\n",
              "\n",
              "pad : float, default: 0.05 if vertical, 0.15 if horizontal\n",
              "    Fraction of original axes between colorbar and new image axes.\n",
              "\n",
              "anchor : (float, float), optional\n",
              "    The anchor point of the colorbar axes.\n",
              "    Defaults to (0.0, 0.5) if vertical; (0.5, 1.0) if horizontal.\n",
              "\n",
              "panchor : (float, float), or *False*, optional\n",
              "    The anchor point of the colorbar parent axes. If *False*, the parent\n",
              "    axes&#x27; anchor will be unchanged.\n",
              "    Defaults to (1.0, 0.5) if vertical; (0.5, 0.0) if horizontal.\n",
              "\n",
              "extend : {&#x27;neither&#x27;, &#x27;both&#x27;, &#x27;min&#x27;, &#x27;max&#x27;}\n",
              "    Make pointed end(s) for out-of-range values (unless &#x27;neither&#x27;).  These are\n",
              "    set for a given colormap using the colormap set_under and set_over methods.\n",
              "\n",
              "extendfrac : {*None*, &#x27;auto&#x27;, length, lengths}\n",
              "    If set to *None*, both the minimum and maximum triangular colorbar\n",
              "    extensions will have a length of 5% of the interior colorbar length (this\n",
              "    is the default setting).\n",
              "\n",
              "    If set to &#x27;auto&#x27;, makes the triangular colorbar extensions the same lengths\n",
              "    as the interior boxes (when *spacing* is set to &#x27;uniform&#x27;) or the same\n",
              "    lengths as the respective adjacent interior boxes (when *spacing* is set to\n",
              "    &#x27;proportional&#x27;).\n",
              "\n",
              "    If a scalar, indicates the length of both the minimum and maximum\n",
              "    triangular colorbar extensions as a fraction of the interior colorbar\n",
              "    length.  A two-element sequence of fractions may also be given, indicating\n",
              "    the lengths of the minimum and maximum colorbar extensions respectively as\n",
              "    a fraction of the interior colorbar length.\n",
              "\n",
              "extendrect : bool\n",
              "    If *False* the minimum and maximum colorbar extensions will be triangular\n",
              "    (the default).  If *True* the extensions will be rectangular.\n",
              "\n",
              "spacing : {&#x27;uniform&#x27;, &#x27;proportional&#x27;}\n",
              "    For discrete colorbars (`.BoundaryNorm` or contours), &#x27;uniform&#x27; gives each\n",
              "    color the same space; &#x27;proportional&#x27; makes the space proportional to the\n",
              "    data interval.\n",
              "\n",
              "ticks : None or list of ticks or Locator\n",
              "    If None, ticks are determined automatically from the input.\n",
              "\n",
              "format : None or str or Formatter\n",
              "    If None, `~.ticker.ScalarFormatter` is used.\n",
              "    Format strings, e.g., ``&quot;%4.2e&quot;`` or ``&quot;{x:.2e}&quot;``, are supported.\n",
              "    An alternative `~.ticker.Formatter` may be given instead.\n",
              "\n",
              "drawedges : bool\n",
              "    Whether to draw lines at color boundaries.\n",
              "\n",
              "label : str\n",
              "    The label on the colorbar&#x27;s long axis.\n",
              "\n",
              "boundaries, values : None or a sequence\n",
              "    If unset, the colormap will be displayed on a 0-1 scale.\n",
              "    If sequences, *values* must have a length 1 less than *boundaries*.  For\n",
              "    each region delimited by adjacent entries in *boundaries*, the color mapped\n",
              "    to the corresponding value in values will be used.\n",
              "    Normally only useful for indexed colors (i.e. ``norm=NoNorm()``) or other\n",
              "    unusual circumstances.\n",
              "\n",
              "Notes\n",
              "-----\n",
              "If *mappable* is a `~.contour.ContourSet`, its *extend* kwarg is\n",
              "included automatically.\n",
              "\n",
              "The *shrink* kwarg provides a simple way to scale the colorbar with\n",
              "respect to the axes. Note that if *cax* is specified, it determines the\n",
              "size of the colorbar and *shrink* and *aspect* kwargs are ignored.\n",
              "\n",
              "For more precise control, you can manually specify the positions of the\n",
              "axes objects in which the mappable and the colorbar are drawn.  In this\n",
              "case, do not use any of the axes properties kwargs.\n",
              "\n",
              "It is known that some vector graphics viewers (svg and pdf) renders\n",
              "white gaps between segments of the colorbar.  This is due to bugs in\n",
              "the viewers, not Matplotlib.  As a workaround, the colorbar can be\n",
              "rendered with overlapping segments::\n",
              "\n",
              "    cbar = colorbar()\n",
              "    cbar.solids.set_edgecolor(&quot;face&quot;)\n",
              "    draw()\n",
              "\n",
              "However, this has negative consequences in other circumstances, e.g.\n",
              "with semi-transparent images (alpha &lt; 1) and colorbar extensions;\n",
              "therefore, this workaround is not used by default (see issue #1188).</pre>\n",
              "      <script>\n",
              "      if (google.colab.kernel.accessAllowed && google.colab.files && google.colab.files.view) {\n",
              "        for (const element of document.querySelectorAll('.filepath')) {\n",
              "          element.style.display = 'block'\n",
              "          element.onclick = (event) => {\n",
              "            event.preventDefault();\n",
              "            event.stopPropagation();\n",
              "            google.colab.files.view(element.textContent, 2128);\n",
              "          };\n",
              "        }\n",
              "      }\n",
              "      for (const element of document.querySelectorAll('.function-repr-contents')) {\n",
              "        element.onclick = (event) => {\n",
              "          event.preventDefault();\n",
              "          event.stopPropagation();\n",
              "          element.classList.toggle('function-repr-contents-collapsed');\n",
              "        };\n",
              "      }\n",
              "      </script>\n",
              "      </div>"
            ]
          },
          "metadata": {},
          "execution_count": 31
        },
        {
          "output_type": "display_data",
          "data": {
            "text/plain": [
              "<Figure size 1000x1000 with 1 Axes>"
            ],
            "image/png": "[encoded data removed]"
          },
          "metadata": {}
        }
      ]
    }
  ]
}