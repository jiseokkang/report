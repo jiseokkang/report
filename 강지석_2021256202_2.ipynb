{
  "nbformat": 4,
  "nbformat_minor": 0,
  "metadata": {
    "colab": {
      "provenance": [],
      "authorship_tag": "ABX9TyPG2nyw5fuTEIHAxSamkdJv",
      "include_colab_link": true
    },
    "kernelspec": {
      "name": "python3",
      "display_name": "Python 3"
    },
    "language_info": {
      "name": "python"
    }
  },
  "cells": [
    {
      "cell_type": "markdown",
      "metadata": {
        "id": "view-in-github",
        "colab_type": "text"
      },
      "source": [
        "<a href=\"https://colab.research.google.com/github/jiseokkang/jiseok/blob/main/Untitled4.ipynb\" target=\"_parent\"><img src=\"https://colab.research.google.com/assets/colab-badge.svg\" alt=\"Open In Colab\"/></a>"
      ]
    },
    {
      "cell_type": "code",
      "source": [
        "text = \"AI! 나는 인공지능 로봇 입니다. 나는 'AI 로봇' 입니다.\"\n",
        "def max_counts(text):\n",
        "  counts = {}\n",
        "  for i in text.split(' '):\n",
        "      if i in counts:\n",
        "         counts[i] += 1\n",
        "      else:\n",
        "         counts[i] = 1\n",
        "  return counts\n",
        "max_counts(text)"
      ],
      "metadata": {
        "colab": {
          "base_uri": "https://localhost:8080/"
        },
        "id": "Q6Alxf39doI8",
        "outputId": "5a95f117-3c06-4fe3-bfc1-934f089c1a77"
      },
      "execution_count": 36,
      "outputs": [
        {
          "output_type": "execute_result",
          "data": {
            "text/plain": [
              "{'AI!': 1, '나는': 2, '인공지능': 1, '로봇': 1, '입니다.': 2, \"'AI\": 1, \"로봇'\": 1}"
            ]
          },
          "metadata": {},
          "execution_count": 36
        }
      ]
    }
  ]
}