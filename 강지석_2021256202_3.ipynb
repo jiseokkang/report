{
  "nbformat": 4,
  "nbformat_minor": 0,
  "metadata": {
    "colab": {
      "provenance": [],
      "authorship_tag": "ABX9TyPNPy6LE6e6f1i4Eie2OSky",
      "include_colab_link": true
    },
    "kernelspec": {
      "name": "python3",
      "display_name": "Python 3"
    },
    "language_info": {
      "name": "python"
    }
  },
  "cells": [
    {
      "cell_type": "markdown",
      "metadata": {
        "id": "view-in-github",
        "colab_type": "text"
      },
      "source": [
        "<a href=\"https://colab.research.google.com/github/jiseokkang/jiseok/blob/main/Untitled4.ipynb\" target=\"_parent\"><img src=\"https://colab.research.google.com/assets/colab-badge.svg\" alt=\"Open In Colab\"/></a>"
      ]
    },
    {
      "cell_type": "code",
      "source": [
        "people = ['홍', '이', '김', '이', '이', '김']\n",
        "def max_count(people):\n",
        "  counts = {}\n",
        "  for i in people:\n",
        "      if i in counts:\n",
        "         counts[i] += 1\n",
        "      else:\n",
        "         counts[i] = 1\n",
        "  return counts\n",
        "counts = max_count(people)\n",
        "print(counts)"
      ],
      "metadata": {
        "colab": {
          "base_uri": "https://localhost:8080/"
        },
        "id": "rn9uGQqeeMPs",
        "outputId": "4784057c-ec67-4574-b4b6-6fa223b5fdf9"
      },
      "execution_count": 37,
      "outputs": [
        {
          "output_type": "stream",
          "name": "stdout",
          "text": [
            "{'홍': 1, '이': 3, '김': 2}\n"
          ]
        }
      ]
    }
  ]
}